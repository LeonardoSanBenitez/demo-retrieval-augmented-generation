{
 "cells": [
  {
   "cell_type": "markdown",
   "id": "4128ae60-3871-423e-999e-bfa3938d9583",
   "metadata": {},
   "source": [
    "# Load DB"
   ]
  },
  {
   "cell_type": "code",
   "execution_count": 23,
   "id": "a546ba1a-8e19-494d-a975-64b178a3bbce",
   "metadata": {},
   "outputs": [],
   "source": [
    "import os\n",
    "from langchain.embeddings.openai import OpenAIEmbeddings\n",
    "from langchain.llms import AzureOpenAI\n",
    "\n",
    "os.environ[\"OPENAI_API_BASE\"] = os.getenv('OPENAI_AZURE_ENDPOINT')\n",
    "os.environ[\"OPENAI_API_KEY\"] = os.getenv('OPENAI_AZURE_KEY')\n",
    "os.environ[\"OPENAI_API_VERSION\"] = \"2023-05-15\"\n",
    "os.environ[\"OPENAI_API_TYPE\"] = \"azure\"\n",
    "\n",
    "embedding = OpenAIEmbeddings(\n",
    "    deployment = 'text-embedding-ada-002',\n",
    "    chunk_size = 1,\n",
    ")\n",
    "\n",
    "llm = AzureOpenAI(\n",
    "    deployment_name = 'gpt-35-turbo',\n",
    "    model_name = 'gpt-35-turbo',\n",
    ")"
   ]
  },
  {
   "cell_type": "code",
   "execution_count": 5,
   "id": "7742f0ff-295a-41c4-99cd-9d1ed39947da",
   "metadata": {},
   "outputs": [],
   "source": [
    "from langchain.vectorstores import Chroma\n",
    "persist_directory = '../assets/persistence/chroma/'\n",
    "\n",
    "vectordb = Chroma(\n",
    "    persist_directory=persist_directory,\n",
    "    embedding_function=embedding\n",
    ")"
   ]
  },
  {
   "cell_type": "code",
   "execution_count": 6,
   "id": "b1fd6c43-87cf-486c-ac05-b4a76306d70d",
   "metadata": {},
   "outputs": [
    {
     "name": "stdout",
     "output_type": "stream",
     "text": [
      "288\n"
     ]
    }
   ],
   "source": [
    "print(vectordb._collection.count())"
   ]
  },
  {
   "cell_type": "markdown",
   "id": "846f5ffb-b0c9-44af-a279-034a0dc6a968",
   "metadata": {},
   "source": [
    "# Pure Information retrieval\n",
    "Embedded vector search"
   ]
  },
  {
   "cell_type": "code",
   "execution_count": 13,
   "id": "523cffde-b30d-4b23-8d54-046dfcacbc72",
   "metadata": {},
   "outputs": [
    {
     "name": "stdout",
     "output_type": "stream",
     "text": [
      "3\n",
      "Recuperação de Informação (RI) \n",
      "▰Encontrar documentos  de natureza não-estruturada que \n",
      "satisfaça uma necessidade de informação, a partir de uma \n",
      "grande coleção de materiais \n",
      "▰Requer cuidadosa avaliação  para \n",
      "demonstrar a performance \n",
      "superior de uma nova técnica \n",
      "4\n"
     ]
    }
   ],
   "source": [
    "question = \"O que é Recuperação de Informação?\"\n",
    "docs_retrieved = vectordb.max_marginal_relevance_search(question,k=3)\n",
    "print(len(docs_retrieved))\n",
    "print(docs_retrieved[0].page_content)"
   ]
  },
  {
   "cell_type": "code",
   "execution_count": 15,
   "id": "ad0be4b8-9d0d-46f1-b760-242ebaa4de6d",
   "metadata": {},
   "outputs": [
    {
     "name": "stdout",
     "output_type": "stream",
     "text": [
      "3\n",
      "Recuperação de Informação (RI) \n",
      "▰Encontrar documentos  de natureza não-estruturada que \n",
      "satisfaça uma necessidade de informação, a partir de uma \n",
      "grande coleção de materiais \n",
      "▰Requer cuidadosa avaliação  para \n",
      "demonstrar a performance \n",
      "superior de uma nova técnica \n",
      "4\n"
     ]
    }
   ],
   "source": [
    "question = \"What is Information Retrieval?\"\n",
    "docs_retrieved = vectordb.max_marginal_relevance_search(question,k=3)\n",
    "print(len(docs_retrieved))\n",
    "print(docs_retrieved[0].page_content)"
   ]
  },
  {
   "cell_type": "markdown",
   "id": "5db4bafe-0249-4da1-a27a-0413b8c963f9",
   "metadata": {},
   "source": [
    "# Retrieval Augmented QnA"
   ]
  },
  {
   "cell_type": "code",
   "execution_count": 33,
   "id": "65fc9d71-271d-43ee-81c2-0717650125de",
   "metadata": {},
   "outputs": [],
   "source": [
    "from langchain.chains import RetrievalQA\n",
    "from langchain.prompts import PromptTemplate\n",
    "\n"
   ]
  },
  {
   "cell_type": "code",
   "execution_count": 86,
   "id": "26298440-d60b-4abd-9e98-4e3f70b7bf5d",
   "metadata": {},
   "outputs": [],
   "source": [
    "template = \"\"\"\n",
    "Use the following pieces of context to answer the question at the end.\n",
    "If the answer is not contained in the context, just say that you don't know, don't try to make up an answer.\n",
    "The context is written in portuguese, but both question and answer should be in english.\n",
    "Do not include any reference or link.\n",
    "Do NOT include any mark like \"<|im_end|>\", just the answer and nothing else.\n",
    "Use 50 words at maximum, under no condition write more than 50 words. Keep the answer as concise as possible. \n",
    "{context}\n",
    "\n",
    "Question: {question}\n",
    "\n",
    "Answer:\"\"\"\n",
    "\n",
    "class Bot():\n",
    "    def __init__(self, llm, retriever):\n",
    "        #self.qa_chain = RetrievalQA.from_chain_type(\n",
    "        #    llm,\n",
    "        #    retriever = retriever,\n",
    "        #)\n",
    "        self.qa_chain = RetrievalQA.from_chain_type(\n",
    "            llm,\n",
    "            retriever = retriever,\n",
    "            return_source_documents = True,\n",
    "            chain_type_kwargs={\"prompt\": PromptTemplate.from_template(template)}\n",
    "        )\n",
    "\n",
    "    def answer(self, question: str) -> None:\n",
    "        result = self.qa_chain(\n",
    "            {\"query\": question}\n",
    "        )\n",
    "        answer: str = result['result'].replace('<|im_end|>', '').strip()\n",
    "        print(answer)\n",
    "bot = Bot(llm, vectordb.as_retriever())"
   ]
  },
  {
   "cell_type": "code",
   "execution_count": 82,
   "id": "78bba1b4-d628-4d54-ae15-74645afd6028",
   "metadata": {
    "scrolled": true
   },
   "outputs": [
    {
     "name": "stdout",
     "output_type": "stream",
     "text": [
      " The specific goals of this work are to compare IR techniques, implement IR techniques, use Skylink data to compare solutions, implement a prototype with the best technique, and test the prototype in real conditions.<|im_end|>\n",
      "---------------------------------------------\n",
      "---------------------------------------------\n",
      "Document 1:\n",
      "\n",
      "analistas de suporte.\n",
      "1.4 Objetivos Específicos\n",
      "Para alcançar o objetivo geral, foram traçados os seguintes objetivos especí-\n",
      "ficos:\n",
      "a)entender as técnicas de Recuperação de Informação aplicáveis ao domí-\n",
      "nio do problema;\n",
      "----------------------------------------------------------------------------------------------------\n",
      "Document 2:\n",
      "\n",
      "SUMÁRIO\n",
      "1 INTRODUÇÃO . . . . . . . . . . . . . . . . . . . . . . . . . . . . . . 11\n",
      "1.1 Justificativa . . . . . . . . . . . . . . . . . . . . . . . . . . . . . . . . 12\n",
      "1.2 Definição do Problema . . . . . . . . . . . . . . . . . . . . . . . . . 12\n",
      "1.3 Objetivo Geral . . . . . . . . . . . . . . . . . . . . . . . . . . . . . . 12\n",
      "1.4 Objetivos Específicos . . . . . . . . . . . . . . . . . . . . . . . . . . 12\n",
      "1.5 Estrutura do Trabalho . . . . . . . . . . . . . . . . . . . . . . . . . . 13\n",
      "----------------------------------------------------------------------------------------------------\n",
      "Document 3:\n",
      "\n",
      "Objetivos \n",
      "▰Comparar técnicas de RI para buscar chamados de suporte \n",
      "similares  a um novo chamado recebido \n",
      "▰Implementar  técnicas de RI. \n",
      "▰Utilizar dados da Skaylink para comparar  as soluções \n",
      "▰Implementar um protótipo  com a melhor técnica \n",
      "▰Testar o protótipo em condições reais \n",
      "5\n",
      "----------------------------------------------------------------------------------------------------\n",
      "Document 4:\n",
      "\n",
      "Contribuições adicionais \n",
      "▰Disponibilizou gratuitamente dois conjuntos de dados \n",
      "▰Descreveu a implementação de cada técnica \n",
      "▰Explorou o que afeta os resultados \n",
      "▰Demonstrou a viabilidade por meio de um protótipo \n",
      "▰Pôster na SNCT (Semana Nacional de Ciência e Tecnologia) \n",
      "▰Publicação na IEEE  International Conference On Cyber \n",
      "Management And Engineering \n",
      "▰(em escrita) Publicação na IEEE Latin America Transactions \n",
      "▰(em escrita) Publicação na revista técnica ???? 22\n"
     ]
    }
   ],
   "source": [
    "question = \"What are the specific goals of this work?\"\n",
    "result = bot.qa_chain({\"query\": question})\n",
    "print(result['result'])\n",
    "print('---------------'*3)\n",
    "print('---------------'*3)\n",
    "print(f\"\\n{'-' * 100}\\n\".join([f\"Document {i+1}:\\n\\n\" + d.page_content for i, d in enumerate(result['source_documents'])]))"
   ]
  },
  {
   "cell_type": "code",
   "execution_count": 85,
   "id": "0a8970f6-e1d0-40e7-b783-b9fa0a569c8f",
   "metadata": {},
   "outputs": [
    {
     "data": {
      "text/plain": [
       "'The specific goals of this work are to compare IR techniques, implement IR techniques, use Skylink data to compare solutions, implement a prototype with the best technique, and test the prototype in real conditions.'"
      ]
     },
     "execution_count": 85,
     "metadata": {},
     "output_type": "execute_result"
    }
   ],
   "source": [
    "result['result']"
   ]
  },
  {
   "cell_type": "code",
   "execution_count": null,
   "id": "8f9bf55e-353c-44c0-a00f-a64249719fe4",
   "metadata": {},
   "outputs": [],
   "source": []
  },
  {
   "cell_type": "code",
   "execution_count": null,
   "id": "0fc2d2a1-9e97-4059-b9e5-fb8b751caf7a",
   "metadata": {},
   "outputs": [],
   "source": []
  },
  {
   "cell_type": "code",
   "execution_count": 93,
   "id": "57617a8a-f84a-4a5b-8c5b-e18612637421",
   "metadata": {},
   "outputs": [
    {
     "name": "stdout",
     "output_type": "stream",
     "text": [
      "The process of finding unstructured documents that fulfill an information need, from a large collection of materials, which requires careful evaluation to demonstrate the superior performance of a new technique.\n"
     ]
    }
   ],
   "source": [
    "bot.answer(question = 'What is Information Retrieval?')"
   ]
  },
  {
   "cell_type": "code",
   "execution_count": 94,
   "id": "ff68711c-01dd-4da0-9021-99e5d98af115",
   "metadata": {},
   "outputs": [
    {
     "name": "stdout",
     "output_type": "stream",
     "text": [
      "To compare IR techniques to search for similar support tickets; to implement the IR techniques; to use Skylink data to compare the solutions; to implement a prototype with the best technique; to test the prototype in real conditions.\n"
     ]
    }
   ],
   "source": [
    "bot.answer(question = 'What are the specific goals of this work?')"
   ]
  },
  {
   "cell_type": "code",
   "execution_count": 95,
   "id": "ae1cd19b-5433-469c-b595-5c40eeea9b15",
   "metadata": {},
   "outputs": [
    {
     "name": "stdout",
     "output_type": "stream",
     "text": [
      "The work demonstrated the viability of a support ticket recovery system and made the dataset used freely and completely available. It also described in detail the implementation of each technique and explored the conditions affecting the results of each model. Finally, the study identified future possibilities.\n"
     ]
    }
   ],
   "source": [
    "bot.answer(question = 'What are the main results of this work?')"
   ]
  },
  {
   "cell_type": "code",
   "execution_count": 96,
   "id": "aea37973-1e59-49b1-a3a3-7bb376ae4fd6",
   "metadata": {},
   "outputs": [
    {
     "name": "stdout",
     "output_type": "stream",
     "text": [
      "The study compared different techniques that are representative of the main existing approaches to the problem, and the methodology had low sensitivity to the annotation methodology or metric. The low adoption rate indicates the need to improve interaction. All techniques were better than the random one and were identified for future possibilities.\n"
     ]
    }
   ],
   "source": [
    "bot.answer(question = 'Summarize the methodlogy to compare the used techniques')"
   ]
  },
  {
   "cell_type": "code",
   "execution_count": 97,
   "id": "b075501e-8ccf-42a6-94b9-b3a85f9f6f89",
   "metadata": {},
   "outputs": [
    {
     "name": "stdout",
     "output_type": "stream",
     "text": [
      "Not specified.\n"
     ]
    }
   ],
   "source": [
    "bot.answer(question = 'In which company was the data collected?')"
   ]
  },
  {
   "cell_type": "code",
   "execution_count": 90,
   "id": "47b0d320-8263-496d-8651-ff8d2e16dcf7",
   "metadata": {},
   "outputs": [
    {
     "name": "stdout",
     "output_type": "stream",
     "text": [
      "F. S. Dyrhovden\n"
     ]
    }
   ],
   "source": [
    "bot.answer(question = 'Who is the author (student)?')"
   ]
  }
 ],
 "metadata": {
  "kernelspec": {
   "display_name": "Python 3 (ipykernel)",
   "language": "python",
   "name": "python3"
  },
  "language_info": {
   "codemirror_mode": {
    "name": "ipython",
    "version": 3
   },
   "file_extension": ".py",
   "mimetype": "text/x-python",
   "name": "python",
   "nbconvert_exporter": "python",
   "pygments_lexer": "ipython3",
   "version": "3.10.6"
  }
 },
 "nbformat": 4,
 "nbformat_minor": 5
}
