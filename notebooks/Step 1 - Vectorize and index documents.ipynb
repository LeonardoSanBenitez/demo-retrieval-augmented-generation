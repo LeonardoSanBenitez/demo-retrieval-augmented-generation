{
 "cells": [
  {
   "cell_type": "code",
   "execution_count": 1,
   "id": "7537ec45",
   "metadata": {},
   "outputs": [
    {
     "data": {
      "text/plain": [
       "True"
      ]
     },
     "execution_count": 1,
     "metadata": {},
     "output_type": "execute_result"
    }
   ],
   "source": [
    "import langchain\n",
    "import os\n",
    "import dotenv\n",
    "dotenv.load_dotenv()"
   ]
  },
  {
   "cell_type": "markdown",
   "id": "141c5236",
   "metadata": {},
   "source": [
    "# Load documents"
   ]
  },
  {
   "cell_type": "code",
   "execution_count": 2,
   "id": "054fcee4",
   "metadata": {},
   "outputs": [
    {
     "name": "stdout",
     "output_type": "stream",
     "text": [
      "52\n",
      "{'source': '../data/text.pdf', 'page': 0}\n",
      "Capítulo 2. Fundamentação Teórica 20\n",
      "Figura 2 – Mecanismo de atenção\n",
      "Fonte: Adaptado de Kamath, Graham e Emara (2022).\n",
      "A arquitetura Transformer utiliza 6 codificadores e 6 decodificadores em para-\n",
      "lelo (Figura 3), cada um com os seus mecanismos próprios de Auto-Atenção (VASWANI\n",
      "et al. , 2017). Além disso, Kamath, Graham e Emara (2022) apontam que a arquitetura\n",
      "utiliza diversos \"truques\" para aumentar a sua capacidade de aprendizado, entre eles:\n",
      "o mecanismo de Auto-Atenção é repetido 8 vezes par\n"
     ]
    }
   ],
   "source": [
    "from langchain.document_loaders import PyPDFLoader\n",
    "loader = PyPDFLoader(\"../data/text.pdf\")\n",
    "docs = loader.load()\n",
    "print(len(docs))\n",
    "type(docs[0])\n",
    "print(docs[0].metadata)\n",
    "print(docs[20].page_content[:500])"
   ]
  },
  {
   "cell_type": "code",
   "execution_count": 3,
   "id": "34091282",
   "metadata": {},
   "outputs": [],
   "source": [
    "docs += PyPDFLoader(\"../data/slides.pdf\").load()\n",
    "docs += PyPDFLoader(\"../data/annotations.pdf\").load()"
   ]
  },
  {
   "cell_type": "markdown",
   "id": "038e3922",
   "metadata": {},
   "source": [
    "# Split"
   ]
  },
  {
   "cell_type": "code",
   "execution_count": 4,
   "id": "abd912f4",
   "metadata": {},
   "outputs": [],
   "source": [
    "from langchain.text_splitter import CharacterTextSplitter\n",
    "text_splitter = CharacterTextSplitter(\n",
    "    separator=\"\\n\",\n",
    "    chunk_size=500,\n",
    "    chunk_overlap=100,\n",
    "    length_function=len\n",
    ")"
   ]
  },
  {
   "cell_type": "code",
   "execution_count": 5,
   "id": "b5a29593",
   "metadata": {},
   "outputs": [
    {
     "name": "stdout",
     "output_type": "stream",
     "text": [
      "80\n",
      "288\n",
      "-------\n",
      "<class 'langchain.schema.document.Document'>\n",
      "{'source': '../data/text.pdf', 'page': 12}\n",
      "viabilizar a implementação de um software que atenda, de forma satisfatória, o analista\n",
      "de suporte, por consequência, melhorando o serviço prestado aos usuários de TI.\n",
      "1.2 Definição do Problema\n",
      "Muitos chamados possuem resolução idêntica, de forma que basta ao ana-\n",
      "lista identificar se um problema similar já foi resolvido no passado (MUNI et al. , 2017).\n",
      "Para isso, o analista pode perguntar a colegas, ler históricos de conversas, buscar dire-\n"
     ]
    }
   ],
   "source": [
    "docs_splitted = text_splitter.split_documents(docs)\n",
    "print(len(docs))\n",
    "print(len(docs_splitted))\n",
    "print('-------')\n",
    "print(type(docs_splitted[50]))\n",
    "print(docs_splitted[50].metadata)\n",
    "print(docs_splitted[50].page_content)"
   ]
  },
  {
   "cell_type": "markdown",
   "id": "c48dc691",
   "metadata": {},
   "source": [
    "# Vectorization and indexing"
   ]
  },
  {
   "cell_type": "code",
   "execution_count": 15,
   "id": "6124b9c3",
   "metadata": {},
   "outputs": [],
   "source": [
    "os.environ[\"OPENAI_API_BASE\"] = os.getenv('OPENAI_AZURE_ENDPOINT')\n",
    "os.environ[\"OPENAI_API_KEY\"] = os.getenv('OPENAI_AZURE_KEY')\n",
    "os.environ[\"OPENAI_API_VERSION\"] = \"2023-05-15\"\n",
    "os.environ[\"OPENAI_API_TYPE\"] = \"azure\"\n",
    "\n",
    "from langchain.embeddings.openai import OpenAIEmbeddings\n",
    "embedding = OpenAIEmbeddings(\n",
    "    deployment = 'text-embedding-ada-002',\n",
    "    chunk_size = 1,\n",
    ")"
   ]
  },
  {
   "cell_type": "code",
   "execution_count": 11,
   "id": "a7eae12f",
   "metadata": {},
   "outputs": [
    {
     "name": "stdout",
     "output_type": "stream",
     "text": [
      "<class 'list'>\n",
      "1536\n",
      "<class 'float'>\n",
      "[-0.027588920667767525, -0.005362407304346561, -0.025769870728254318, -0.03319765627384186, -0.0272857453674078, 0.022536005824804306, -0.010326896794140339, -0.008280466310679913, 0.0025564597453922033, -0.01980742998421192]\n"
     ]
    }
   ],
   "source": [
    "# Example\n",
    "sentence1 = \"i like dogs\"\n",
    "embedding1 = embedding.embed_query(sentence1)\n",
    "\n",
    "print(type(embedding1))\n",
    "print(len(embedding1))\n",
    "print(type(embedding1[0]))\n",
    "print(embedding1[:10])"
   ]
  },
  {
   "cell_type": "markdown",
   "id": "a7e0487e-ba0b-4b11-bb4f-debef1fb3cac",
   "metadata": {},
   "source": [
    "# Persist"
   ]
  },
  {
   "cell_type": "code",
   "execution_count": 7,
   "id": "69c3f98b",
   "metadata": {},
   "outputs": [],
   "source": [
    "from langchain.vectorstores import Chroma\n",
    "persist_directory = '../assets/persistence/chroma/'"
   ]
  },
  {
   "cell_type": "code",
   "execution_count": 8,
   "id": "ecf80eb0",
   "metadata": {},
   "outputs": [
    {
     "data": {
      "text/plain": [
       "0"
      ]
     },
     "execution_count": 8,
     "metadata": {},
     "output_type": "execute_result"
    }
   ],
   "source": [
    "#os.system(f\"rm -rf {persist_directory}\") # Careful: this deletes the DB"
   ]
  },
  {
   "cell_type": "code",
   "execution_count": 16,
   "id": "17c01e1b",
   "metadata": {
    "scrolled": true
   },
   "outputs": [],
   "source": [
    "# This will already calculate the embeddings for all documents\n",
    "# That is, many calls to OpenAI, be aware of costs\n",
    "vectordb = Chroma.from_documents(\n",
    "    documents=docs_splitted,\n",
    "    embedding=embedding,\n",
    "    persist_directory=persist_directory\n",
    ")"
   ]
  },
  {
   "cell_type": "code",
   "execution_count": 17,
   "id": "f1e2f67f-c70c-4446-b384-ae978dfbf5aa",
   "metadata": {},
   "outputs": [],
   "source": [
    "vectordb.persist()"
   ]
  }
 ],
 "metadata": {
  "kernelspec": {
   "display_name": "Python 3 (ipykernel)",
   "language": "python",
   "name": "python3"
  },
  "language_info": {
   "codemirror_mode": {
    "name": "ipython",
    "version": 3
   },
   "file_extension": ".py",
   "mimetype": "text/x-python",
   "name": "python",
   "nbconvert_exporter": "python",
   "pygments_lexer": "ipython3",
   "version": "3.10.6"
  }
 },
 "nbformat": 4,
 "nbformat_minor": 5
}
