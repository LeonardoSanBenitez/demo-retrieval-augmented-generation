{
 "cells": [
  {
   "cell_type": "code",
   "execution_count": 1,
   "id": "e68ce1b0",
   "metadata": {},
   "outputs": [
    {
     "name": "stdout",
     "output_type": "stream",
     "text": [
      "Requirement already satisfied: pypdf in /home/benitez/.local/lib/python3.8/site-packages (3.12.2)\r\n",
      "Requirement already satisfied: typing_extensions>=3.10.0.0; python_version < \"3.10\" in /home/benitez/.local/lib/python3.8/site-packages (from pypdf) (4.5.0)\r\n"
     ]
    }
   ],
   "source": [
    "#! pip install langchain\n",
    "! pip install pypdf"
   ]
  },
  {
   "cell_type": "code",
   "execution_count": 2,
   "id": "7537ec45",
   "metadata": {},
   "outputs": [
    {
     "data": {
      "text/plain": [
       "True"
      ]
     },
     "execution_count": 2,
     "metadata": {},
     "output_type": "execute_result"
    }
   ],
   "source": [
    "import langchain\n",
    "import os\n",
    "import dotenv\n",
    "dotenv.load_dotenv()"
   ]
  },
  {
   "cell_type": "markdown",
   "id": "141c5236",
   "metadata": {},
   "source": [
    "# load"
   ]
  },
  {
   "cell_type": "code",
   "execution_count": 5,
   "id": "054fcee4",
   "metadata": {},
   "outputs": [
    {
     "name": "stdout",
     "output_type": "stream",
     "text": [
      "52\n",
      "{'source': '../../data/text.pdf', 'page': 0}\n",
      "Capítulo 2. Fundamentação Teórica 20\n",
      "Figura 2 – Mecanismo de atenção\n",
      "Fonte: Adaptado de Kamath, Graham e Emara (2022).\n",
      "A arquitetura Transformer utiliza 6 codificadores e 6 decodificadores em para-\n",
      "lelo (Figura 3), cada um com os seus mecanismos próprios de Auto-Atenção (VASWANI\n",
      "et al. , 2017). Além disso, Kamath, Graham e Emara (2022) apontam que a arquitetura\n",
      "utiliza diversos \"truques\" para aumentar a sua capacidade de aprendizado, entre eles:\n",
      "o mecanismo de Auto-Atenção é repetido 8 vezes par\n"
     ]
    }
   ],
   "source": [
    "from langchain.document_loaders import PyPDFLoader\n",
    "loader = PyPDFLoader(\"../../data/text.pdf\")\n",
    "docs = loader.load()\n",
    "print(len(docs))\n",
    "type(docs[0])\n",
    "print(docs[0].metadata)\n",
    "print(docs[20].page_content[:500])"
   ]
  },
  {
   "cell_type": "code",
   "execution_count": 6,
   "id": "34091282",
   "metadata": {},
   "outputs": [],
   "source": [
    "docs += PyPDFLoader(\"../../data/slides.pdf\").load()\n",
    "docs += PyPDFLoader(\"../../data/annotations.pdf\").load()"
   ]
  },
  {
   "cell_type": "markdown",
   "id": "038e3922",
   "metadata": {},
   "source": [
    "# Split"
   ]
  },
  {
   "cell_type": "code",
   "execution_count": 7,
   "id": "abd912f4",
   "metadata": {},
   "outputs": [],
   "source": [
    "from langchain.text_splitter import CharacterTextSplitter\n",
    "text_splitter = CharacterTextSplitter(\n",
    "    separator=\"\\n\",\n",
    "    chunk_size=500,\n",
    "    chunk_overlap=100,\n",
    "    length_function=len\n",
    ")"
   ]
  },
  {
   "cell_type": "code",
   "execution_count": 8,
   "id": "b5a29593",
   "metadata": {},
   "outputs": [
    {
     "name": "stdout",
     "output_type": "stream",
     "text": [
      "80\n",
      "288\n",
      "-------\n",
      "<class 'langchain.schema.document.Document'>\n",
      "{'source': '../../data/text.pdf', 'page': 12}\n",
      "viabilizar a implementação de um software que atenda, de forma satisfatória, o analista\n",
      "de suporte, por consequência, melhorando o serviço prestado aos usuários de TI.\n",
      "1.2 Definição do Problema\n",
      "Muitos chamados possuem resolução idêntica, de forma que basta ao ana-\n",
      "lista identificar se um problema similar já foi resolvido no passado (MUNI et al. , 2017).\n",
      "Para isso, o analista pode perguntar a colegas, ler históricos de conversas, buscar dire-\n"
     ]
    }
   ],
   "source": [
    "docs_splitted = text_splitter.split_documents(docs)\n",
    "print(len(docs))\n",
    "print(len(docs_splitted))\n",
    "print('-------')\n",
    "print(type(docs_splitted[50]))\n",
    "print(docs_splitted[50].metadata)\n",
    "print(docs_splitted[50].page_content)"
   ]
  },
  {
   "cell_type": "markdown",
   "id": "c48dc691",
   "metadata": {},
   "source": [
    "# Vectorization and indexing"
   ]
  },
  {
   "cell_type": "code",
   "execution_count": 9,
   "id": "9fb76ca9",
   "metadata": {
    "scrolled": true
   },
   "outputs": [
    {
     "name": "stdout",
     "output_type": "stream",
     "text": [
      "Requirement already satisfied: chromadb in /home/benitez/.local/lib/python3.8/site-packages (0.4.2)\n",
      "Requirement already satisfied: tqdm>=4.65.0 in /home/benitez/.local/lib/python3.8/site-packages (from chromadb) (4.65.0)\n",
      "Requirement already satisfied: tokenizers>=0.13.2 in /home/benitez/.local/lib/python3.8/site-packages (from chromadb) (0.13.3)\n",
      "Requirement already satisfied: uvicorn[standard]>=0.18.3 in /home/benitez/.local/lib/python3.8/site-packages (from chromadb) (0.23.1)\n",
      "Requirement already satisfied: posthog>=2.4.0 in /home/benitez/.local/lib/python3.8/site-packages (from chromadb) (3.0.1)\n",
      "Requirement already satisfied: chroma-hnswlib==0.7.1 in /home/benitez/.local/lib/python3.8/site-packages (from chromadb) (0.7.1)\n",
      "Requirement already satisfied: pypika>=0.48.9 in /home/benitez/.local/lib/python3.8/site-packages (from chromadb) (0.48.9)\n",
      "Requirement already satisfied: onnxruntime>=1.14.1 in /home/benitez/.local/lib/python3.8/site-packages (from chromadb) (1.15.1)\n",
      "Requirement already satisfied: numpy>=1.21.6 in /home/benitez/.local/lib/python3.8/site-packages (from chromadb) (1.24.2)\n",
      "Requirement already satisfied: typing-extensions>=4.5.0 in /home/benitez/.local/lib/python3.8/site-packages (from chromadb) (4.5.0)\n",
      "Requirement already satisfied: pandas>=1.3 in /home/benitez/.local/lib/python3.8/site-packages (from chromadb) (1.5.3)\n",
      "Requirement already satisfied: overrides>=7.3.1 in /home/benitez/.local/lib/python3.8/site-packages (from chromadb) (7.3.1)\n",
      "Requirement already satisfied: requests>=2.28 in /home/benitez/.local/lib/python3.8/site-packages (from chromadb) (2.31.0)\n",
      "Requirement already satisfied: importlib-resources in /home/benitez/.local/lib/python3.8/site-packages (from chromadb) (5.10.2)\n",
      "Requirement already satisfied: graphlib-backport>=1.0.3; python_version < \"3.9\" in /home/benitez/.local/lib/python3.8/site-packages (from chromadb) (1.0.3)\n",
      "Requirement already satisfied: pydantic<2.0,>=1.9 in /home/benitez/.local/lib/python3.8/site-packages (from chromadb) (1.10.6)\n",
      "Requirement already satisfied: fastapi<0.100.0,>=0.95.2 in /home/benitez/.local/lib/python3.8/site-packages (from chromadb) (0.99.1)\n",
      "Requirement already satisfied: pulsar-client>=3.1.0 in /home/benitez/.local/lib/python3.8/site-packages (from chromadb) (3.2.0)\n",
      "Requirement already satisfied: click>=7.0 in /home/benitez/.local/lib/python3.8/site-packages (from uvicorn[standard]>=0.18.3->chromadb) (8.1.3)\n",
      "Requirement already satisfied: h11>=0.8 in /home/benitez/.local/lib/python3.8/site-packages (from uvicorn[standard]>=0.18.3->chromadb) (0.14.0)\n",
      "Requirement already satisfied: python-dotenv>=0.13; extra == \"standard\" in /home/benitez/.local/lib/python3.8/site-packages (from uvicorn[standard]>=0.18.3->chromadb) (1.0.0)\n",
      "Requirement already satisfied: websockets>=10.4; extra == \"standard\" in /home/benitez/.local/lib/python3.8/site-packages (from uvicorn[standard]>=0.18.3->chromadb) (11.0.3)\n",
      "Requirement already satisfied: uvloop!=0.15.0,!=0.15.1,>=0.14.0; sys_platform != \"win32\" and (sys_platform != \"cygwin\" and platform_python_implementation != \"PyPy\") and extra == \"standard\" in /home/benitez/.local/lib/python3.8/site-packages (from uvicorn[standard]>=0.18.3->chromadb) (0.17.0)\n",
      "Requirement already satisfied: pyyaml>=5.1; extra == \"standard\" in /home/benitez/.local/lib/python3.8/site-packages (from uvicorn[standard]>=0.18.3->chromadb) (6.0.1)\n",
      "Requirement already satisfied: httptools>=0.5.0; extra == \"standard\" in /home/benitez/.local/lib/python3.8/site-packages (from uvicorn[standard]>=0.18.3->chromadb) (0.6.0)\n",
      "Requirement already satisfied: watchfiles>=0.13; extra == \"standard\" in /home/benitez/.local/lib/python3.8/site-packages (from uvicorn[standard]>=0.18.3->chromadb) (0.19.0)\n",
      "Requirement already satisfied: backoff>=1.10.0 in /home/benitez/.local/lib/python3.8/site-packages (from posthog>=2.4.0->chromadb) (2.2.1)\n",
      "Requirement already satisfied: six>=1.5 in /usr/lib/python3/dist-packages (from posthog>=2.4.0->chromadb) (1.14.0)\n",
      "Requirement already satisfied: python-dateutil>2.1 in /home/benitez/.local/lib/python3.8/site-packages (from posthog>=2.4.0->chromadb) (2.8.2)\n",
      "Requirement already satisfied: monotonic>=1.5 in /usr/lib/python3/dist-packages (from posthog>=2.4.0->chromadb) (1.5)\n",
      "Requirement already satisfied: flatbuffers in /home/benitez/.local/lib/python3.8/site-packages (from onnxruntime>=1.14.1->chromadb) (23.5.26)\n",
      "Requirement already satisfied: protobuf in /home/benitez/.local/lib/python3.8/site-packages (from onnxruntime>=1.14.1->chromadb) (4.23.1)\n",
      "Requirement already satisfied: sympy in /home/benitez/.local/lib/python3.8/site-packages (from onnxruntime>=1.14.1->chromadb) (1.12)\n",
      "Requirement already satisfied: packaging in /home/benitez/.local/lib/python3.8/site-packages (from onnxruntime>=1.14.1->chromadb) (23.0)\n",
      "Requirement already satisfied: coloredlogs in /home/benitez/.local/lib/python3.8/site-packages (from onnxruntime>=1.14.1->chromadb) (15.0.1)\n",
      "Requirement already satisfied: pytz>=2020.1 in /home/benitez/.local/lib/python3.8/site-packages (from pandas>=1.3->chromadb) (2022.7.1)\n",
      "Requirement already satisfied: charset-normalizer<4,>=2 in /home/benitez/.local/lib/python3.8/site-packages (from requests>=2.28->chromadb) (3.1.0)\n",
      "Requirement already satisfied: urllib3<3,>=1.21.1 in /home/benitez/.local/lib/python3.8/site-packages (from requests>=2.28->chromadb) (2.0.2)\n",
      "Requirement already satisfied: idna<4,>=2.5 in /usr/lib/python3/dist-packages (from requests>=2.28->chromadb) (2.8)\n",
      "Requirement already satisfied: certifi>=2017.4.17 in /usr/lib/python3/dist-packages (from requests>=2.28->chromadb) (2019.11.28)\n",
      "Requirement already satisfied: zipp>=3.1.0; python_version < \"3.10\" in /home/benitez/.local/lib/python3.8/site-packages (from importlib-resources->chromadb) (3.12.1)\n",
      "Requirement already satisfied: starlette<0.28.0,>=0.27.0 in /home/benitez/.local/lib/python3.8/site-packages (from fastapi<0.100.0,>=0.95.2->chromadb) (0.27.0)\n",
      "Requirement already satisfied: anyio>=3.0.0 in /home/benitez/.local/lib/python3.8/site-packages (from watchfiles>=0.13; extra == \"standard\"->uvicorn[standard]>=0.18.3->chromadb) (3.6.2)\n",
      "Requirement already satisfied: mpmath>=0.19 in /home/benitez/.local/lib/python3.8/site-packages (from sympy->onnxruntime>=1.14.1->chromadb) (1.3.0)\n",
      "Requirement already satisfied: humanfriendly>=9.1 in /home/benitez/.local/lib/python3.8/site-packages (from coloredlogs->onnxruntime>=1.14.1->chromadb) (10.0)\n",
      "Requirement already satisfied: sniffio>=1.1 in /home/benitez/.local/lib/python3.8/site-packages (from anyio>=3.0.0->watchfiles>=0.13; extra == \"standard\"->uvicorn[standard]>=0.18.3->chromadb) (1.3.0)\n"
     ]
    }
   ],
   "source": [
    "!pip install chromadb"
   ]
  },
  {
   "cell_type": "code",
   "execution_count": 10,
   "id": "6124b9c3",
   "metadata": {},
   "outputs": [],
   "source": [
    "os.environ[\"OPENAI_API_BASE\"] = os.getenv('OPENAI_AZURE_ENDPOINT')\n",
    "os.environ[\"OPENAI_API_KEY\"] = os.getenv('OPENAI_AZURE_KEY')\n",
    "os.environ[\"OPENAI_API_VERSION\"] = \"2023-05-15\"\n",
    "os.environ[\"OPENAI_API_TYPE\"] = \"azure\"\n",
    "\n",
    "from langchain.embeddings.openai import OpenAIEmbeddings\n",
    "embedding = OpenAIEmbeddings(deployment = 'text-embedding-ada-002')"
   ]
  },
  {
   "cell_type": "code",
   "execution_count": 11,
   "id": "a7eae12f",
   "metadata": {},
   "outputs": [
    {
     "name": "stdout",
     "output_type": "stream",
     "text": [
      "<class 'list'>\n",
      "1536\n",
      "<class 'float'>\n",
      "[-0.027588920667767525, -0.005362407304346561, -0.025769870728254318, -0.03319765627384186, -0.0272857453674078, 0.022536005824804306, -0.010326896794140339, -0.008280466310679913, 0.0025564597453922033, -0.01980742998421192]\n"
     ]
    }
   ],
   "source": [
    "# Example\n",
    "sentence1 = \"i like dogs\"\n",
    "embedding1 = embedding.embed_query(sentence1)\n",
    "\n",
    "print(type(embedding1))\n",
    "print(len(embedding1))\n",
    "print(type(embedding1[0]))\n",
    "print(embedding1[:10])"
   ]
  },
  {
   "cell_type": "code",
   "execution_count": null,
   "id": "02d9a27a",
   "metadata": {},
   "outputs": [],
   "source": []
  },
  {
   "cell_type": "code",
   "execution_count": null,
   "id": "f3213531",
   "metadata": {},
   "outputs": [],
   "source": [
    "# "
   ]
  },
  {
   "cell_type": "code",
   "execution_count": null,
   "id": "69c3f98b",
   "metadata": {},
   "outputs": [],
   "source": [
    "from langchain.vectorstores import Chroma\n",
    "persist_directory = 'docs/chroma/'"
   ]
  },
  {
   "cell_type": "code",
   "execution_count": null,
   "id": "17c01e1b",
   "metadata": {},
   "outputs": [],
   "source": [
    "vectordb = Chroma.from_documents(\n",
    "    documents=docs_splitted,\n",
    "    embedding=embedding,\n",
    "    persist_directory=persist_directory\n",
    ")"
   ]
  }
 ],
 "metadata": {
  "kernelspec": {
   "display_name": "Python 3 (ipykernel)",
   "language": "python",
   "name": "python3"
  },
  "language_info": {
   "codemirror_mode": {
    "name": "ipython",
    "version": 3
   },
   "file_extension": ".py",
   "mimetype": "text/x-python",
   "name": "python",
   "nbconvert_exporter": "python",
   "pygments_lexer": "ipython3",
   "version": "3.8.10"
  }
 },
 "nbformat": 4,
 "nbformat_minor": 5
}
